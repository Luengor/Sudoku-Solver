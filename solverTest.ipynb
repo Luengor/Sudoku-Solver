{
 "metadata": {
  "language_info": {
   "codemirror_mode": {
    "name": "ipython",
    "version": 3
   },
   "file_extension": ".py",
   "mimetype": "text/x-python",
   "name": "python",
   "nbconvert_exporter": "python",
   "pygments_lexer": "ipython3",
   "version": "3.9.5"
  },
  "orig_nbformat": 4,
  "kernelspec": {
   "name": "python3",
   "display_name": "Python 3.9.5 64-bit"
  },
  "interpreter": {
   "hash": "916dbcbb3f70747c44a77c7bcd40155683ae19c65e1c03b4aa3499c5328201f1"
  }
 },
 "nbformat": 4,
 "nbformat_minor": 2,
 "cells": [
  {
   "cell_type": "code",
   "execution_count": 1,
   "metadata": {},
   "outputs": [],
   "source": [
    "import numpy as np\n",
    "import cv2 as cv"
   ]
  },
  {
   "cell_type": "code",
   "execution_count": 2,
   "metadata": {},
   "outputs": [],
   "source": [
    "capture = cv.imread('data/temp/scr.png', cv.IMREAD_GRAYSCALE)\n",
    "ns = [cv.imread('data/numbers/n%s.png' % x, cv.IMREAD_GRAYSCALE) for x in range(1, 10)]\n",
    "ress = [cv.matchTemplate(capture, n, cv.TM_CCOEFF_NORMED) for n in ns]\n",
    "threshold = 0.95\n",
    "locs = [np.where(res >= threshold)[::-1] for res in ress]\n",
    "del capture, ns, ress, threshold"
   ]
  },
  {
   "cell_type": "code",
   "execution_count": 3,
   "metadata": {},
   "outputs": [],
   "source": [
    "board = np.zeros((9, 9), dtype=np.int0)\n",
    "for n, loc in enumerate(locs):\n",
    "    for pos in zip(*loc):\n",
    "        x = pos[0] // 80\n",
    "        y = (pos[1] - 256) // 80\n",
    "        board[y, x] = n + 1"
   ]
  },
  {
   "cell_type": "code",
   "execution_count": 4,
   "metadata": {},
   "outputs": [],
   "source": [
    "def isValidState(board:np.ndarray, cell:list) -> bool:\n",
    "    x, y = cell\n",
    "    cellValue = board[y, x]\n",
    "    \n",
    "    row = np.where(board[y, :] == cellValue)\n",
    "    if len(row[0]) > 1: return False\n",
    "    \n",
    "    column = np.where(board[:, x] == cellValue)\n",
    "    if len(column[0]) > 1: return False\n",
    "    \n",
    "    block = np.where(board[y // 3 * 3:y // 3 * 3 + 3, x // 3 * 3:x // 3 * 3 + 3] == cellValue)\n",
    "    if len(block[0]) > 1: return False\n",
    "\n",
    "    return True"
   ]
  },
  {
   "cell_type": "code",
   "execution_count": 5,
   "metadata": {},
   "outputs": [],
   "source": [
    "def testBoard(tBoard:np.ndarray, permIndex:int) -> bool:\n",
    "    '''\n",
    "    Solves the sudoku on a numpy array\n",
    "    Returns: bool used in the process. It will be True or False\n",
    "    depending if the board is solved or not.\n",
    "    '''\n",
    "    x, y = permutesLoc[permIndex]\n",
    "    # Go for each valid number and get deeper while its posible\n",
    "    for v, val in enumerate(permutesValids[permIndex]):\n",
    "        # Set the position as val\n",
    "        tBoard[y, x] = val\n",
    "\n",
    "        # If its not a valid state, skip it\n",
    "        # 1* Note the \"return False\" at the end if no option is possible\n",
    "        if not isValidState(tBoard, (x, y)):\n",
    "            continue\n",
    "\n",
    "        ## (All of this code from now on is executed only if the valid was correct)\n",
    "        # If we are at the end of the chain, return True\n",
    "        if permIndex == len(permutesValids) - 1:\n",
    "            # print(tBoard)\n",
    "            return True\n",
    "        \n",
    "        # If not, the recursion keeps going\n",
    "        done = testBoard(tBoard, permIndex + 1)\n",
    "        \n",
    "        # If that recursion was done, return True\n",
    "        if done:\n",
    "            return True\n",
    "        # If not, continue\n",
    "        else:\n",
    "            continue\n",
    "    # If nothing was successful, undo the board and return False\n",
    "    tBoard[y, x] = 0\n",
    "    # 1*\n",
    "    return False\n",
    "        "
   ]
  },
  {
   "cell_type": "code",
   "execution_count": 6,
   "metadata": {},
   "outputs": [],
   "source": [
    "permutesLoc = [[y, x] for x, y in zip(*np.where(board == 0))]\n",
    "permutesValids = []\n",
    "for x, y in permutesLoc:\n",
    "    valids = [x for x in range(1, 10)]\n",
    "    # Row check\n",
    "    for n in board[y, :]:\n",
    "        if n in valids:\n",
    "            valids.remove(n)\n",
    "    # Column check\n",
    "    for n in board[:, x]:\n",
    "        if n in valids:\n",
    "            valids.remove(n)\n",
    "    # Block check\n",
    "    block = board[y // 3 * 3:y // 3 * 3 + 3, x // 3 * 3:x // 3 * 3 + 3]\n",
    "    for n in block.flatten():\n",
    "        if n in valids:\n",
    "            valids.remove(n)\n",
    "    permutesValids.append(valids)"
   ]
  },
  {
   "cell_type": "code",
   "execution_count": 7,
   "metadata": {},
   "outputs": [
    {
     "output_type": "execute_result",
     "data": {
      "text/plain": [
       "array([[9, 7, 8, 5, 4, 1, 2, 3, 6],\n",
       "       [1, 3, 2, 8, 7, 6, 5, 4, 9],\n",
       "       [4, 5, 6, 9, 2, 3, 7, 8, 1],\n",
       "       [5, 1, 9, 2, 8, 7, 4, 6, 3],\n",
       "       [7, 6, 3, 4, 1, 5, 8, 9, 2],\n",
       "       [2, 8, 4, 6, 3, 9, 1, 5, 7],\n",
       "       [6, 4, 1, 3, 5, 2, 9, 7, 8],\n",
       "       [3, 2, 5, 7, 9, 8, 6, 1, 4],\n",
       "       [8, 9, 7, 1, 6, 4, 3, 2, 5]])"
      ]
     },
     "metadata": {},
     "execution_count": 7
    }
   ],
   "source": [
    "tBoard = np.array(board)\n",
    "done = testBoard(tBoard, 0)\n",
    "tBoard"
   ]
  },
  {
   "cell_type": "code",
   "execution_count": null,
   "metadata": {},
   "outputs": [],
   "source": []
  }
 ]
}